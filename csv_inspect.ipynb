{
 "cells": [
  {
   "cell_type": "code",
   "id": "initial_id",
   "metadata": {
    "collapsed": true,
    "ExecuteTime": {
     "end_time": "2024-09-10T13:09:43.089124Z",
     "start_time": "2024-09-10T13:09:43.063206Z"
    }
   },
   "source": "import pandas",
   "outputs": [],
   "execution_count": 28
  },
  {
   "metadata": {
    "ExecuteTime": {
     "end_time": "2024-09-10T13:14:54.353979Z",
     "start_time": "2024-09-10T13:14:54.337162Z"
    }
   },
   "cell_type": "code",
   "source": [
    "source = \"eq\"\n",
    "df = pandas.read_csv(f'db_metadata/{source}.csv', sep=';')"
   ],
   "id": "56e22e1cd957d703",
   "outputs": [],
   "execution_count": 39
  },
  {
   "metadata": {
    "ExecuteTime": {
     "end_time": "2024-09-10T13:14:54.636786Z",
     "start_time": "2024-09-10T13:14:54.609436Z"
    }
   },
   "cell_type": "code",
   "source": [
    "# Generating explanation text for each row in the DataFrame\n",
    "explanations = []\n",
    "for index, row in df.iterrows():\n",
    "    explanation = (\n",
    "        f\"The data named {row['name']} is located at destination table {row['destination_table']} in the pure_de database \"\n",
    "        f\"with id {row['id']}. You can find {row['name']} data in database: pure_de  > destination_table: {row['destination_table']} > id: {row['id']} \\n\\n#\\n\\n\"\n",
    "    )\n",
    "    explanations.append(explanation)\n",
    "\n",
    "# Writing the explanations to a txt file\n",
    "file_path = f\"data/{source}_meta.txt\"\n",
    "with open(file_path, \"w\") as file:\n",
    "    file.writelines(explanations)\n",
    "\n",
    "file_path"
   ],
   "id": "2d92505098917524",
   "outputs": [
    {
     "data": {
      "text/plain": [
       "'data/eq_meta.txt'"
      ]
     },
     "execution_count": 40,
     "metadata": {},
     "output_type": "execute_result"
    }
   ],
   "execution_count": 40
  },
  {
   "metadata": {},
   "cell_type": "code",
   "outputs": [],
   "execution_count": null,
   "source": "",
   "id": "2a65688dc77e69cd"
  }
 ],
 "metadata": {
  "kernelspec": {
   "display_name": "Python 3",
   "language": "python",
   "name": "python3"
  },
  "language_info": {
   "codemirror_mode": {
    "name": "ipython",
    "version": 2
   },
   "file_extension": ".py",
   "mimetype": "text/x-python",
   "name": "python",
   "nbconvert_exporter": "python",
   "pygments_lexer": "ipython2",
   "version": "2.7.6"
  }
 },
 "nbformat": 4,
 "nbformat_minor": 5
}
