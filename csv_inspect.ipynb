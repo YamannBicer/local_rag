{
 "cells": [
  {
   "cell_type": "code",
   "id": "initial_id",
   "metadata": {
    "collapsed": true,
    "ExecuteTime": {
     "end_time": "2024-09-11T08:36:28.220012Z",
     "start_time": "2024-09-11T08:36:28.188420Z"
    }
   },
   "source": "import pandas as pd ",
   "outputs": [],
   "execution_count": 41
  },
  {
   "metadata": {
    "ExecuteTime": {
     "end_time": "2024-09-10T13:14:54.353979Z",
     "start_time": "2024-09-10T13:14:54.337162Z"
    }
   },
   "cell_type": "code",
   "source": [
    "source = \"eq\"\n",
    "df = pd.read_csv(f'db_metadata/{source}.csv', sep=';')"
   ],
   "id": "56e22e1cd957d703",
   "outputs": [],
   "execution_count": 39
  },
  {
   "metadata": {
    "ExecuteTime": {
     "end_time": "2024-09-10T13:14:54.636786Z",
     "start_time": "2024-09-10T13:14:54.609436Z"
    }
   },
   "cell_type": "code",
   "source": [
    "# Generating explanation text for each row in the DataFrame\n",
    "explanations = []\n",
    "for index, row in df.iterrows():\n",
    "    explanation = (\n",
    "        f\"The data named {row['name']} is located at destination table {row['destination_table']} in the pure_de database \"\n",
    "        f\"with id {row['id']}. You can find {row['name']} data in database: pure_de  > destination_table: {row['destination_table']} > id: {row['id']} \\n\\n#\\n\\n\"\n",
    "    )\n",
    "    explanations.append(explanation)\n",
    "\n",
    "# Writing the explanations to a txt file\n",
    "file_path = f\"data/{source}_meta.txt\"\n",
    "with open(file_path, \"w\") as file:\n",
    "    file.writelines(explanations)\n",
    "\n",
    "file_path"
   ],
   "id": "2d92505098917524",
   "outputs": [
    {
     "data": {
      "text/plain": [
       "'data/eq_meta.txt'"
      ]
     },
     "execution_count": 40,
     "metadata": {},
     "output_type": "execute_result"
    }
   ],
   "execution_count": 40
  },
  {
   "metadata": {
    "ExecuteTime": {
     "end_time": "2024-09-11T08:44:46.265429Z",
     "start_time": "2024-09-11T08:44:46.218641Z"
    }
   },
   "cell_type": "code",
   "source": [
    "df = pd.read_csv('db_metadata/trdatahub.csv', sep=',')\n",
    "df"
   ],
   "id": "2a65688dc77e69cd",
   "outputs": [
    {
     "data": {
      "text/plain": [
       "                            Tablo ismi  \\\n",
       "0                 algopoly_based_price   \n",
       "1                 ariza_bakim_bildirim   \n",
       "2                    balancing_masters   \n",
       "3                  base_definitions_pk   \n",
       "4   base_definitions_settlement_groups   \n",
       "..                                 ...   \n",
       "61                   traders_unit_list   \n",
       "62                       uevcb_details   \n",
       "63                               vault   \n",
       "64                   yekdem_final_list   \n",
       "65                      yekdem_results   \n",
       "\n",
       "                                             Açıklama  \n",
       "0                     Algopoly baz fiyatlarını içerir  \n",
       "1   Türkiye geneli santrallerin arıza bakım bildir...  \n",
       "2   Uzlaştırmada kullanılan, dengesizliğin altında...  \n",
       "3    Organizasyon bazında sözleşme detaylarını içerir  \n",
       "4           UEVCB bazında sözleşme detaylarını içerir  \n",
       "..                                                ...  \n",
       "61  Türkiye traderlarının ilgilendiği santral list...  \n",
       "62                    UEVM ve UECM bilgilerini içerir  \n",
       "63  tr_data_hub projesinde, kodların okuyacağı cre...  \n",
       "64    EPDK'nın yayınladığı YEKDEM listelerini içerir.  \n",
       "65  YEKDEM'deki santralleirn lisans bilgilerini iç...  \n",
       "\n",
       "[66 rows x 2 columns]"
      ],
      "text/html": [
       "<div>\n",
       "<style scoped>\n",
       "    .dataframe tbody tr th:only-of-type {\n",
       "        vertical-align: middle;\n",
       "    }\n",
       "\n",
       "    .dataframe tbody tr th {\n",
       "        vertical-align: top;\n",
       "    }\n",
       "\n",
       "    .dataframe thead th {\n",
       "        text-align: right;\n",
       "    }\n",
       "</style>\n",
       "<table border=\"1\" class=\"dataframe\">\n",
       "  <thead>\n",
       "    <tr style=\"text-align: right;\">\n",
       "      <th></th>\n",
       "      <th>Tablo ismi</th>\n",
       "      <th>Açıklama</th>\n",
       "    </tr>\n",
       "  </thead>\n",
       "  <tbody>\n",
       "    <tr>\n",
       "      <th>0</th>\n",
       "      <td>algopoly_based_price</td>\n",
       "      <td>Algopoly baz fiyatlarını içerir</td>\n",
       "    </tr>\n",
       "    <tr>\n",
       "      <th>1</th>\n",
       "      <td>ariza_bakim_bildirim</td>\n",
       "      <td>Türkiye geneli santrallerin arıza bakım bildir...</td>\n",
       "    </tr>\n",
       "    <tr>\n",
       "      <th>2</th>\n",
       "      <td>balancing_masters</td>\n",
       "      <td>Uzlaştırmada kullanılan, dengesizliğin altında...</td>\n",
       "    </tr>\n",
       "    <tr>\n",
       "      <th>3</th>\n",
       "      <td>base_definitions_pk</td>\n",
       "      <td>Organizasyon bazında sözleşme detaylarını içerir</td>\n",
       "    </tr>\n",
       "    <tr>\n",
       "      <th>4</th>\n",
       "      <td>base_definitions_settlement_groups</td>\n",
       "      <td>UEVCB bazında sözleşme detaylarını içerir</td>\n",
       "    </tr>\n",
       "    <tr>\n",
       "      <th>...</th>\n",
       "      <td>...</td>\n",
       "      <td>...</td>\n",
       "    </tr>\n",
       "    <tr>\n",
       "      <th>61</th>\n",
       "      <td>traders_unit_list</td>\n",
       "      <td>Türkiye traderlarının ilgilendiği santral list...</td>\n",
       "    </tr>\n",
       "    <tr>\n",
       "      <th>62</th>\n",
       "      <td>uevcb_details</td>\n",
       "      <td>UEVM ve UECM bilgilerini içerir</td>\n",
       "    </tr>\n",
       "    <tr>\n",
       "      <th>63</th>\n",
       "      <td>vault</td>\n",
       "      <td>tr_data_hub projesinde, kodların okuyacağı cre...</td>\n",
       "    </tr>\n",
       "    <tr>\n",
       "      <th>64</th>\n",
       "      <td>yekdem_final_list</td>\n",
       "      <td>EPDK'nın yayınladığı YEKDEM listelerini içerir.</td>\n",
       "    </tr>\n",
       "    <tr>\n",
       "      <th>65</th>\n",
       "      <td>yekdem_results</td>\n",
       "      <td>YEKDEM'deki santralleirn lisans bilgilerini iç...</td>\n",
       "    </tr>\n",
       "  </tbody>\n",
       "</table>\n",
       "<p>66 rows × 2 columns</p>\n",
       "</div>"
      ]
     },
     "execution_count": 52,
     "metadata": {},
     "output_type": "execute_result"
    }
   ],
   "execution_count": 52
  },
  {
   "metadata": {
    "ExecuteTime": {
     "end_time": "2024-09-11T08:37:11.659838Z",
     "start_time": "2024-09-11T08:37:11.612962Z"
    }
   },
   "cell_type": "code",
   "source": [
    "explanations = []\n",
    "for index, row in df.iterrows():\n",
    "    explanation = (\n",
    "        f\"The data named {row['name']} is located at destination table {row['destination_table']} in the pure_de database \"\n",
    "        f\"with id {row['id']}. You can find {row['name']} data in database: pure_de  > destination_table: {row['destination_table']} > id: {row['id']} \\n\\n#\\n\\n\"\n",
    "    )\n",
    "    explanations.append(explanation)"
   ],
   "id": "932459fd76126bba",
   "outputs": [
    {
     "data": {
      "text/plain": [
       "                            Tablo ismi  \\\n",
       "0                 algopoly_based_price   \n",
       "1                 ariza_bakim_bildirim   \n",
       "2                    balancing_masters   \n",
       "3                  base_definitions_pk   \n",
       "4   base_definitions_settlement_groups   \n",
       "..                                 ...   \n",
       "61                   traders_unit_list   \n",
       "62                       uevcb_details   \n",
       "63                               vault   \n",
       "64                   yekdem_final_list   \n",
       "65                      yekdem_results   \n",
       "\n",
       "                                             Açıklama  \n",
       "0                     Algopoly baz fiyatlarını içerir  \n",
       "1   Türkiye geneli santrallerin arıza bakım bildir...  \n",
       "2   Uzlaştırmada kullanılan, dengesizliğin altında...  \n",
       "3    Organizasyon bazında sözleşme detaylarını içerir  \n",
       "4           UEVCB bazında sözleşme detaylarını içerir  \n",
       "..                                                ...  \n",
       "61  Türkiye traderlarının ilgilendiği santral list...  \n",
       "62                    UEVM ve UECM bilgilerini içerir  \n",
       "63  tr_data_hub projesinde, kodların okuyacağı cre...  \n",
       "64    EPDK'nın yayınladığı YEKDEM listelerini içerir.  \n",
       "65  YEKDEM'deki santralleirn lisans bilgilerini iç...  \n",
       "\n",
       "[66 rows x 2 columns]"
      ],
      "text/html": [
       "<div>\n",
       "<style scoped>\n",
       "    .dataframe tbody tr th:only-of-type {\n",
       "        vertical-align: middle;\n",
       "    }\n",
       "\n",
       "    .dataframe tbody tr th {\n",
       "        vertical-align: top;\n",
       "    }\n",
       "\n",
       "    .dataframe thead th {\n",
       "        text-align: right;\n",
       "    }\n",
       "</style>\n",
       "<table border=\"1\" class=\"dataframe\">\n",
       "  <thead>\n",
       "    <tr style=\"text-align: right;\">\n",
       "      <th></th>\n",
       "      <th>Tablo ismi</th>\n",
       "      <th>Açıklama</th>\n",
       "    </tr>\n",
       "  </thead>\n",
       "  <tbody>\n",
       "    <tr>\n",
       "      <th>0</th>\n",
       "      <td>algopoly_based_price</td>\n",
       "      <td>Algopoly baz fiyatlarını içerir</td>\n",
       "    </tr>\n",
       "    <tr>\n",
       "      <th>1</th>\n",
       "      <td>ariza_bakim_bildirim</td>\n",
       "      <td>Türkiye geneli santrallerin arıza bakım bildir...</td>\n",
       "    </tr>\n",
       "    <tr>\n",
       "      <th>2</th>\n",
       "      <td>balancing_masters</td>\n",
       "      <td>Uzlaştırmada kullanılan, dengesizliğin altında...</td>\n",
       "    </tr>\n",
       "    <tr>\n",
       "      <th>3</th>\n",
       "      <td>base_definitions_pk</td>\n",
       "      <td>Organizasyon bazında sözleşme detaylarını içerir</td>\n",
       "    </tr>\n",
       "    <tr>\n",
       "      <th>4</th>\n",
       "      <td>base_definitions_settlement_groups</td>\n",
       "      <td>UEVCB bazında sözleşme detaylarını içerir</td>\n",
       "    </tr>\n",
       "    <tr>\n",
       "      <th>...</th>\n",
       "      <td>...</td>\n",
       "      <td>...</td>\n",
       "    </tr>\n",
       "    <tr>\n",
       "      <th>61</th>\n",
       "      <td>traders_unit_list</td>\n",
       "      <td>Türkiye traderlarının ilgilendiği santral list...</td>\n",
       "    </tr>\n",
       "    <tr>\n",
       "      <th>62</th>\n",
       "      <td>uevcb_details</td>\n",
       "      <td>UEVM ve UECM bilgilerini içerir</td>\n",
       "    </tr>\n",
       "    <tr>\n",
       "      <th>63</th>\n",
       "      <td>vault</td>\n",
       "      <td>tr_data_hub projesinde, kodların okuyacağı cre...</td>\n",
       "    </tr>\n",
       "    <tr>\n",
       "      <th>64</th>\n",
       "      <td>yekdem_final_list</td>\n",
       "      <td>EPDK'nın yayınladığı YEKDEM listelerini içerir.</td>\n",
       "    </tr>\n",
       "    <tr>\n",
       "      <th>65</th>\n",
       "      <td>yekdem_results</td>\n",
       "      <td>YEKDEM'deki santralleirn lisans bilgilerini iç...</td>\n",
       "    </tr>\n",
       "  </tbody>\n",
       "</table>\n",
       "<p>66 rows × 2 columns</p>\n",
       "</div>"
      ]
     },
     "execution_count": 44,
     "metadata": {},
     "output_type": "execute_result"
    }
   ],
   "execution_count": 44
  },
  {
   "metadata": {},
   "cell_type": "code",
   "outputs": [],
   "execution_count": null,
   "source": "dump ",
   "id": "6ad580a648885bf4"
  }
 ],
 "metadata": {
  "kernelspec": {
   "display_name": "Python 3",
   "language": "python",
   "name": "python3"
  },
  "language_info": {
   "codemirror_mode": {
    "name": "ipython",
    "version": 2
   },
   "file_extension": ".py",
   "mimetype": "text/x-python",
   "name": "python",
   "nbconvert_exporter": "python",
   "pygments_lexer": "ipython2",
   "version": "2.7.6"
  }
 },
 "nbformat": 4,
 "nbformat_minor": 5
}
